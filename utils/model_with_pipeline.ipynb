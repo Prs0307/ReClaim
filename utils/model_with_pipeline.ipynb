{
  "cells": [
    {
      "cell_type": "code",
      "execution_count": 1,
      "metadata": {
        "id": "NtxoktJJyMzc"
      },
      "outputs": [],
      "source": [
        "import numpy as np\n",
        "import pandas as pd\n",
        "import matplotlib.pyplot as plt\n",
        "import seaborn as sns\n",
        "from sklearn.model_selection import train_test_split\n",
        "from sklearn.preprocessing import StandardScaler, LabelEncoder, OneHotEncoder\n",
        "from sklearn.compose import ColumnTransformer\n",
        "from sklearn.linear_model import LinearRegression\n",
        "from sklearn.metrics import mean_squared_error, r2_score, mean_absolute_error\n",
        "from sklearn.pipeline import Pipeline\n",
        "from sklearn.impute import SimpleImputer"
      ]
    },
    {
      "cell_type": "code",
      "execution_count": 2,
      "metadata": {
        "id": "cPiBXHKnyc_U"
      },
      "outputs": [],
      "source": [
        "# Load the data\n",
        "data = pd.read_csv('updated_e_waste_dataset.csv')"
      ]
    },
    {
      "cell_type": "code",
      "execution_count": 16,
      "metadata": {},
      "outputs": [
        {
          "data": {
            "text/plain": [
              "array(['Toshiba Fire TV', 'LG Sound Bar', 'Nikon D850', 'Amazon Echo',\n",
              "       'JBL Charge 4', 'Surface Laptop 4', 'LG OLED TV',\n",
              "       'Panasonic Viera', 'Garmin Forerunner', 'Harman Kardon Speaker',\n",
              "       'Fitbit Versa 3', 'Nintendo Switch', 'Galaxy S21',\n",
              "       'Apple Watch Series 6', 'Sony Alpha A7', 'DJI Mavic Air 2',\n",
              "       'Xbox Series X', 'Sony Bravia TV', 'iPad Pro', 'Lenovo Yoga',\n",
              "       'Galaxy Note 20', 'MacBook Air', 'Roku Ultra', 'iPhone 11',\n",
              "       'iPhone 12', 'Pixel 5', 'ThinkPad X1', 'Samsung QLED TV', 'PS5',\n",
              "       'Dell XPS 13', 'Denon AV Receiver', 'GoPro Hero 9', 'Google Home',\n",
              "       'Samsung Blu-ray Player', 'Yamaha Receiver', 'Ring Doorbell',\n",
              "       'Pioneer AV Receiver', 'HP Spectre', 'Bose SoundLink',\n",
              "       'MacBook Pro', 'Apple TV 4K', 'Samsung Galaxy Watch 3',\n",
              "       'Surface Pro 7', 'Fire TV Stick', 'Nest Thermostat',\n",
              "       'Canon EOS R5', 'Oculus Quest 2', 'Sony WH-1000XM4',\n",
              "       'Galaxy Tab S7'], dtype=object)"
            ]
          },
          "execution_count": 16,
          "metadata": {},
          "output_type": "execute_result"
        }
      ],
      "source": [
        "data[('Item Name')].unique()"
      ]
    },
    {
      "cell_type": "code",
      "execution_count": 3,
      "metadata": {
        "id": "BkKc_8Nm07wi"
      },
      "outputs": [],
      "source": [
        "# Define the features and target\n",
        "X = data.drop(columns=['Item Name', 'Profit', 'Current Metal Value ($)'])\n",
        "y = data['Profit']"
      ]
    },
    {
      "cell_type": "code",
      "execution_count": 4,
      "metadata": {
        "id": "KftYh4v61CHq"
      },
      "outputs": [],
      "source": [
        "# Create a column transformer for preprocessing\n",
        "preprocessor = ColumnTransformer(\n",
        "    transformers=[\n",
        "        ('num', StandardScaler(), X.select_dtypes(include=['int64', 'float64']).columns),\n",
        "        ('cat', OneHotEncoder(handle_unknown='ignore'), X.select_dtypes(include=['object']).columns)\n",
        "    ]\n",
        ")\n"
      ]
    },
    {
      "cell_type": "code",
      "execution_count": 5,
      "metadata": {
        "id": "7IxCQdDH1Irl"
      },
      "outputs": [],
      "source": [
        "# Create a pipeline with preprocessing and model\n",
        "pipeline = Pipeline(steps=[\n",
        "    ('preprocessor', preprocessor),\n",
        "    ('model', LinearRegression())\n",
        "])"
      ]
    },
    {
      "cell_type": "code",
      "execution_count": 6,
      "metadata": {
        "id": "mb1qCjeJ1Ob1"
      },
      "outputs": [],
      "source": [
        "# Split the data into training and testing sets\n",
        "X_train, X_test, y_train, y_test = train_test_split(X, y, test_size=0.2, random_state=42)"
      ]
    },
    {
      "cell_type": "code",
      "execution_count": null,
      "metadata": {
        "colab": {
          "base_uri": "https://localhost:8080/",
          "height": 191
        },
        "id": "PI2aGulx1Spp",
        "outputId": "d17ac042-3824-4c92-8c78-80b894245eee"
      },
      "outputs": [
        {
          "data": {
            "text/html": [
              "<style>#sk-container-id-1 {color: black;}#sk-container-id-1 pre{padding: 0;}#sk-container-id-1 div.sk-toggleable {background-color: white;}#sk-container-id-1 label.sk-toggleable__label {cursor: pointer;display: block;width: 100%;margin-bottom: 0;padding: 0.3em;box-sizing: border-box;text-align: center;}#sk-container-id-1 label.sk-toggleable__label-arrow:before {content: \"▸\";float: left;margin-right: 0.25em;color: #696969;}#sk-container-id-1 label.sk-toggleable__label-arrow:hover:before {color: black;}#sk-container-id-1 div.sk-estimator:hover label.sk-toggleable__label-arrow:before {color: black;}#sk-container-id-1 div.sk-toggleable__content {max-height: 0;max-width: 0;overflow: hidden;text-align: left;background-color: #f0f8ff;}#sk-container-id-1 div.sk-toggleable__content pre {margin: 0.2em;color: black;border-radius: 0.25em;background-color: #f0f8ff;}#sk-container-id-1 input.sk-toggleable__control:checked~div.sk-toggleable__content {max-height: 200px;max-width: 100%;overflow: auto;}#sk-container-id-1 input.sk-toggleable__control:checked~label.sk-toggleable__label-arrow:before {content: \"▾\";}#sk-container-id-1 div.sk-estimator input.sk-toggleable__control:checked~label.sk-toggleable__label {background-color: #d4ebff;}#sk-container-id-1 div.sk-label input.sk-toggleable__control:checked~label.sk-toggleable__label {background-color: #d4ebff;}#sk-container-id-1 input.sk-hidden--visually {border: 0;clip: rect(1px 1px 1px 1px);clip: rect(1px, 1px, 1px, 1px);height: 1px;margin: -1px;overflow: hidden;padding: 0;position: absolute;width: 1px;}#sk-container-id-1 div.sk-estimator {font-family: monospace;background-color: #f0f8ff;border: 1px dotted black;border-radius: 0.25em;box-sizing: border-box;margin-bottom: 0.5em;}#sk-container-id-1 div.sk-estimator:hover {background-color: #d4ebff;}#sk-container-id-1 div.sk-parallel-item::after {content: \"\";width: 100%;border-bottom: 1px solid gray;flex-grow: 1;}#sk-container-id-1 div.sk-label:hover label.sk-toggleable__label {background-color: #d4ebff;}#sk-container-id-1 div.sk-serial::before {content: \"\";position: absolute;border-left: 1px solid gray;box-sizing: border-box;top: 0;bottom: 0;left: 50%;z-index: 0;}#sk-container-id-1 div.sk-serial {display: flex;flex-direction: column;align-items: center;background-color: white;padding-right: 0.2em;padding-left: 0.2em;position: relative;}#sk-container-id-1 div.sk-item {position: relative;z-index: 1;}#sk-container-id-1 div.sk-parallel {display: flex;align-items: stretch;justify-content: center;background-color: white;position: relative;}#sk-container-id-1 div.sk-item::before, #sk-container-id-1 div.sk-parallel-item::before {content: \"\";position: absolute;border-left: 1px solid gray;box-sizing: border-box;top: 0;bottom: 0;left: 50%;z-index: -1;}#sk-container-id-1 div.sk-parallel-item {display: flex;flex-direction: column;z-index: 1;position: relative;background-color: white;}#sk-container-id-1 div.sk-parallel-item:first-child::after {align-self: flex-end;width: 50%;}#sk-container-id-1 div.sk-parallel-item:last-child::after {align-self: flex-start;width: 50%;}#sk-container-id-1 div.sk-parallel-item:only-child::after {width: 0;}#sk-container-id-1 div.sk-dashed-wrapped {border: 1px dashed gray;margin: 0 0.4em 0.5em 0.4em;box-sizing: border-box;padding-bottom: 0.4em;background-color: white;}#sk-container-id-1 div.sk-label label {font-family: monospace;font-weight: bold;display: inline-block;line-height: 1.2em;}#sk-container-id-1 div.sk-label-container {text-align: center;}#sk-container-id-1 div.sk-container {/* jupyter's `normalize.less` sets `[hidden] { display: none; }` but bootstrap.min.css set `[hidden] { display: none !important; }` so we also need the `!important` here to be able to override the default hidden behavior on the sphinx rendered scikit-learn.org. See: https://github.com/scikit-learn/scikit-learn/issues/21755 */display: inline-block !important;position: relative;}#sk-container-id-1 div.sk-text-repr-fallback {display: none;}</style><div id=\"sk-container-id-1\" class=\"sk-top-container\"><div class=\"sk-text-repr-fallback\"><pre>Pipeline(steps=[(&#x27;preprocessor&#x27;,\n",
              "                 ColumnTransformer(transformers=[(&#x27;num&#x27;, StandardScaler(),\n",
              "                                                  Index([&#x27;Device Age&#x27;, &#x27;Material Recovery Rate&#x27;, &#x27;Year of Manufacture&#x27;,\n",
              "       &#x27;Market Value of Metals&#x27;, &#x27;Cost of Recovery&#x27;, &#x27;Gold (g)&#x27;,\n",
              "       &#x27;Aluminum (g)&#x27;, &#x27;Silver (g)&#x27;, &#x27;Carbon (g)&#x27;, &#x27;Platinum (g)&#x27;,\n",
              "       &#x27;Rhodium (g)&#x27;, &#x27;Nickel (g)&#x27;, &#x27;Tin (g)&#x27;, &#x27;Lithium (g)&#x27;,\n",
              "       &#x27;Recycling Score&#x27;],\n",
              "      dtype=&#x27;object&#x27;)),\n",
              "                                                 (&#x27;cat&#x27;,\n",
              "                                                  OneHotEncoder(handle_unknown=&#x27;ignore&#x27;),\n",
              "                                                  Index([&#x27;Category&#x27;, &#x27;Brand Name&#x27;, &#x27;Device Condition&#x27;, &#x27;Device Type&#x27;], dtype=&#x27;object&#x27;))])),\n",
              "                (&#x27;model&#x27;, LinearRegression())])</pre><b>In a Jupyter environment, please rerun this cell to show the HTML representation or trust the notebook. <br />On GitHub, the HTML representation is unable to render, please try loading this page with nbviewer.org.</b></div><div class=\"sk-container\" hidden><div class=\"sk-item sk-dashed-wrapped\"><div class=\"sk-label-container\"><div class=\"sk-label sk-toggleable\"><input class=\"sk-toggleable__control sk-hidden--visually\" id=\"sk-estimator-id-1\" type=\"checkbox\" ><label for=\"sk-estimator-id-1\" class=\"sk-toggleable__label sk-toggleable__label-arrow\">Pipeline</label><div class=\"sk-toggleable__content\"><pre>Pipeline(steps=[(&#x27;preprocessor&#x27;,\n",
              "                 ColumnTransformer(transformers=[(&#x27;num&#x27;, StandardScaler(),\n",
              "                                                  Index([&#x27;Device Age&#x27;, &#x27;Material Recovery Rate&#x27;, &#x27;Year of Manufacture&#x27;,\n",
              "       &#x27;Market Value of Metals&#x27;, &#x27;Cost of Recovery&#x27;, &#x27;Gold (g)&#x27;,\n",
              "       &#x27;Aluminum (g)&#x27;, &#x27;Silver (g)&#x27;, &#x27;Carbon (g)&#x27;, &#x27;Platinum (g)&#x27;,\n",
              "       &#x27;Rhodium (g)&#x27;, &#x27;Nickel (g)&#x27;, &#x27;Tin (g)&#x27;, &#x27;Lithium (g)&#x27;,\n",
              "       &#x27;Recycling Score&#x27;],\n",
              "      dtype=&#x27;object&#x27;)),\n",
              "                                                 (&#x27;cat&#x27;,\n",
              "                                                  OneHotEncoder(handle_unknown=&#x27;ignore&#x27;),\n",
              "                                                  Index([&#x27;Category&#x27;, &#x27;Brand Name&#x27;, &#x27;Device Condition&#x27;, &#x27;Device Type&#x27;], dtype=&#x27;object&#x27;))])),\n",
              "                (&#x27;model&#x27;, LinearRegression())])</pre></div></div></div><div class=\"sk-serial\"><div class=\"sk-item sk-dashed-wrapped\"><div class=\"sk-label-container\"><div class=\"sk-label sk-toggleable\"><input class=\"sk-toggleable__control sk-hidden--visually\" id=\"sk-estimator-id-2\" type=\"checkbox\" ><label for=\"sk-estimator-id-2\" class=\"sk-toggleable__label sk-toggleable__label-arrow\">preprocessor: ColumnTransformer</label><div class=\"sk-toggleable__content\"><pre>ColumnTransformer(transformers=[(&#x27;num&#x27;, StandardScaler(),\n",
              "                                 Index([&#x27;Device Age&#x27;, &#x27;Material Recovery Rate&#x27;, &#x27;Year of Manufacture&#x27;,\n",
              "       &#x27;Market Value of Metals&#x27;, &#x27;Cost of Recovery&#x27;, &#x27;Gold (g)&#x27;,\n",
              "       &#x27;Aluminum (g)&#x27;, &#x27;Silver (g)&#x27;, &#x27;Carbon (g)&#x27;, &#x27;Platinum (g)&#x27;,\n",
              "       &#x27;Rhodium (g)&#x27;, &#x27;Nickel (g)&#x27;, &#x27;Tin (g)&#x27;, &#x27;Lithium (g)&#x27;,\n",
              "       &#x27;Recycling Score&#x27;],\n",
              "      dtype=&#x27;object&#x27;)),\n",
              "                                (&#x27;cat&#x27;, OneHotEncoder(handle_unknown=&#x27;ignore&#x27;),\n",
              "                                 Index([&#x27;Category&#x27;, &#x27;Brand Name&#x27;, &#x27;Device Condition&#x27;, &#x27;Device Type&#x27;], dtype=&#x27;object&#x27;))])</pre></div></div></div><div class=\"sk-parallel\"><div class=\"sk-parallel-item\"><div class=\"sk-item\"><div class=\"sk-label-container\"><div class=\"sk-label sk-toggleable\"><input class=\"sk-toggleable__control sk-hidden--visually\" id=\"sk-estimator-id-3\" type=\"checkbox\" ><label for=\"sk-estimator-id-3\" class=\"sk-toggleable__label sk-toggleable__label-arrow\">num</label><div class=\"sk-toggleable__content\"><pre>Index([&#x27;Device Age&#x27;, &#x27;Material Recovery Rate&#x27;, &#x27;Year of Manufacture&#x27;,\n",
              "       &#x27;Market Value of Metals&#x27;, &#x27;Cost of Recovery&#x27;, &#x27;Gold (g)&#x27;,\n",
              "       &#x27;Aluminum (g)&#x27;, &#x27;Silver (g)&#x27;, &#x27;Carbon (g)&#x27;, &#x27;Platinum (g)&#x27;,\n",
              "       &#x27;Rhodium (g)&#x27;, &#x27;Nickel (g)&#x27;, &#x27;Tin (g)&#x27;, &#x27;Lithium (g)&#x27;,\n",
              "       &#x27;Recycling Score&#x27;],\n",
              "      dtype=&#x27;object&#x27;)</pre></div></div></div><div class=\"sk-serial\"><div class=\"sk-item\"><div class=\"sk-estimator sk-toggleable\"><input class=\"sk-toggleable__control sk-hidden--visually\" id=\"sk-estimator-id-4\" type=\"checkbox\" ><label for=\"sk-estimator-id-4\" class=\"sk-toggleable__label sk-toggleable__label-arrow\">StandardScaler</label><div class=\"sk-toggleable__content\"><pre>StandardScaler()</pre></div></div></div></div></div></div><div class=\"sk-parallel-item\"><div class=\"sk-item\"><div class=\"sk-label-container\"><div class=\"sk-label sk-toggleable\"><input class=\"sk-toggleable__control sk-hidden--visually\" id=\"sk-estimator-id-5\" type=\"checkbox\" ><label for=\"sk-estimator-id-5\" class=\"sk-toggleable__label sk-toggleable__label-arrow\">cat</label><div class=\"sk-toggleable__content\"><pre>Index([&#x27;Category&#x27;, &#x27;Brand Name&#x27;, &#x27;Device Condition&#x27;, &#x27;Device Type&#x27;], dtype=&#x27;object&#x27;)</pre></div></div></div><div class=\"sk-serial\"><div class=\"sk-item\"><div class=\"sk-estimator sk-toggleable\"><input class=\"sk-toggleable__control sk-hidden--visually\" id=\"sk-estimator-id-6\" type=\"checkbox\" ><label for=\"sk-estimator-id-6\" class=\"sk-toggleable__label sk-toggleable__label-arrow\">OneHotEncoder</label><div class=\"sk-toggleable__content\"><pre>OneHotEncoder(handle_unknown=&#x27;ignore&#x27;)</pre></div></div></div></div></div></div></div></div><div class=\"sk-item\"><div class=\"sk-estimator sk-toggleable\"><input class=\"sk-toggleable__control sk-hidden--visually\" id=\"sk-estimator-id-7\" type=\"checkbox\" ><label for=\"sk-estimator-id-7\" class=\"sk-toggleable__label sk-toggleable__label-arrow\">LinearRegression</label><div class=\"sk-toggleable__content\"><pre>LinearRegression()</pre></div></div></div></div></div></div></div>"
            ],
            "text/plain": [
              "Pipeline(steps=[('preprocessor',\n",
              "                 ColumnTransformer(transformers=[('num', StandardScaler(),\n",
              "                                                  Index(['Device Age', 'Material Recovery Rate', 'Year of Manufacture',\n",
              "       'Market Value of Metals', 'Cost of Recovery', 'Gold (g)',\n",
              "       'Aluminum (g)', 'Silver (g)', 'Carbon (g)', 'Platinum (g)',\n",
              "       'Rhodium (g)', 'Nickel (g)', 'Tin (g)', 'Lithium (g)',\n",
              "       'Recycling Score'],\n",
              "      dtype='object')),\n",
              "                                                 ('cat',\n",
              "                                                  OneHotEncoder(handle_unknown='ignore'),\n",
              "                                                  Index(['Category', 'Brand Name', 'Device Condition', 'Device Type'], dtype='object'))])),\n",
              "                ('model', LinearRegression())])"
            ]
          },
          "execution_count": 7,
          "metadata": {},
          "output_type": "execute_result"
        }
      ],
      "source": [
        "# Train the model using the pipeline\n",
        "pipeline.fit(X_train, y_train)"
      ]
    },
    {
      "cell_type": "code",
      "execution_count": null,
      "metadata": {},
      "outputs": [],
      "source": []
    },
    {
      "cell_type": "code",
      "execution_count": 10,
      "metadata": {},
      "outputs": [
        {
          "data": {
            "text/plain": [
              "Index(['Category', 'Brand Name', 'Device Age', 'Device Condition',\n",
              "       'Material Recovery Rate', 'Device Type', 'Year of Manufacture',\n",
              "       'Market Value of Metals', 'Cost of Recovery', 'Gold (g)',\n",
              "       'Aluminum (g)', 'Silver (g)', 'Carbon (g)', 'Platinum (g)',\n",
              "       'Rhodium (g)', 'Nickel (g)', 'Tin (g)', 'Lithium (g)',\n",
              "       'Recycling Score'],\n",
              "      dtype='object')"
            ]
          },
          "execution_count": 10,
          "metadata": {},
          "output_type": "execute_result"
        }
      ],
      "source": [
        "X_train.columns"
      ]
    },
    {
      "cell_type": "code",
      "execution_count": 12,
      "metadata": {},
      "outputs": [
        {
          "data": {
            "text/plain": [
              "array(['Dell', 'Panasonic', 'Sony', 'Samsung', 'Philips', 'Toshiba', 'HP',\n",
              "       'Lenovo', 'LG', 'Apple'], dtype=object)"
            ]
          },
          "execution_count": 12,
          "metadata": {},
          "output_type": "execute_result"
        }
      ],
      "source": [
        "X_train['Brand Name'].unique()"
      ]
    },
    {
      "cell_type": "code",
      "execution_count": null,
      "metadata": {},
      "outputs": [],
      "source": [
        "data[''].unique()"
      ]
    },
    {
      "cell_type": "code",
      "execution_count": 13,
      "metadata": {},
      "outputs": [
        {
          "data": {
            "text/plain": [
              "array(['Broken', 'Average', 'Good'], dtype=object)"
            ]
          },
          "execution_count": 13,
          "metadata": {},
          "output_type": "execute_result"
        }
      ],
      "source": [
        "X_train['Device Condition'].unique()"
      ]
    },
    {
      "cell_type": "code",
      "execution_count": 9,
      "metadata": {},
      "outputs": [
        {
          "data": {
            "text/plain": [
              "array(['Cat3', 'Cat4', 'Cat2', 'Cat1'], dtype=object)"
            ]
          },
          "execution_count": 9,
          "metadata": {},
          "output_type": "execute_result"
        }
      ],
      "source": [
        "X_train['Category'].unique()"
      ]
    },
    {
      "cell_type": "code",
      "execution_count": null,
      "metadata": {
        "id": "KFgbMClg1bF4"
      },
      "outputs": [],
      "source": [
        "# Make predictions\n",
        "y_pred = pipeline.predict(X_test)\n"
      ]
    },
    {
      "cell_type": "code",
      "execution_count": null,
      "metadata": {
        "id": "vdq9Llqf1dAK"
      },
      "outputs": [],
      "source": [
        "# Evaluate the model\n",
        "mse = mean_squared_error(y_test, y_pred)\n",
        "r2 = r2_score(y_test, y_pred)\n",
        "mae = mean_absolute_error(y_test, y_pred)\n",
        "rmse = np.sqrt(mse)"
      ]
    },
    {
      "cell_type": "code",
      "execution_count": null,
      "metadata": {
        "colab": {
          "base_uri": "https://localhost:8080/"
        },
        "id": "OtOZnqvF1hFF",
        "outputId": "6fa97352-2bc0-443a-ab4c-a8f88fc19512"
      },
      "outputs": [
        {
          "name": "stdout",
          "output_type": "stream",
          "text": [
            "Mean Squared Error: 2.2480995942311844e-26\n",
            "R-squared Score: 1.0\n",
            "Mean Absolute Error: 1.1529976973179146e-13\n",
            "Root Mean Squared Error: 1.499366397593058e-13\n"
          ]
        }
      ],
      "source": [
        "print(f'Mean Squared Error: {mse}')\n",
        "print(f'R-squared Score: {r2}')\n",
        "print(f'Mean Absolute Error: {mae}')\n",
        "print(f'Root Mean Squared Error: {rmse}')"
      ]
    },
    {
      "cell_type": "code",
      "execution_count": null,
      "metadata": {
        "colab": {
          "base_uri": "https://localhost:8080/"
        },
        "id": "j8voxfwx1lV4",
        "outputId": "dcf57ba0-1a2f-44a0-8f00-1010da8ed4b9"
      },
      "outputs": [
        {
          "name": "stdout",
          "output_type": "stream",
          "text": [
            "Pipeline saved to e_waste_pipeline.pkl\n"
          ]
        }
      ],
      "source": [
        "# Save the pipeline\n",
        "import pickle\n",
        "filename = 'e_waste_pipeline.pkl'\n",
        "with open(filename, 'wb') as file:\n",
        "    pickle.dump(pipeline, file)\n",
        "\n",
        "print(f\"Pipeline saved to {filename}\")"
      ]
    },
    {
      "cell_type": "code",
      "execution_count": null,
      "metadata": {
        "id": "PQT6KdJS1sun"
      },
      "outputs": [],
      "source": [
        "\n",
        "# Load and use the pipeline\n",
        "loaded_pipeline = pickle.load(open('/content/e_waste_pipeline.pkl', 'rb'))\n",
        "prediction = loaded_pipeline.predict(X_test)\n"
      ]
    },
    {
      "cell_type": "code",
      "execution_count": null,
      "metadata": {
        "colab": {
          "base_uri": "https://localhost:8080/"
        },
        "id": "34BjMrGr1xI_",
        "outputId": "6a3de537-3b31-459d-d953-300a3a035a0e"
      },
      "outputs": [
        {
          "name": "stdout",
          "output_type": "stream",
          "text": [
            "First prediction: 326.2100000000002\n"
          ]
        }
      ],
      "source": [
        "# Show the first prediction\n",
        "print(f\"First prediction: {prediction[0]}\")"
      ]
    }
  ],
  "metadata": {
    "colab": {
      "provenance": []
    },
    "kernelspec": {
      "display_name": "Python 3",
      "name": "python3"
    },
    "language_info": {
      "codemirror_mode": {
        "name": "ipython",
        "version": 3
      },
      "file_extension": ".py",
      "mimetype": "text/x-python",
      "name": "python",
      "nbconvert_exporter": "python",
      "pygments_lexer": "ipython3",
      "version": "3.11.7"
    }
  },
  "nbformat": 4,
  "nbformat_minor": 0
}
